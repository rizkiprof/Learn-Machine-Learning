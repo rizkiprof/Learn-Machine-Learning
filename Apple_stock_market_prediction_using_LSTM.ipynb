{
  "nbformat": 4,
  "nbformat_minor": 0,
  "metadata": {
    "colab": {
      "name": "Apple stock market prediction using LSTM.ipynb",
      "provenance": [],
      "collapsed_sections": [],
      "authorship_tag": "ABX9TyPcs7uM4Fy1e2QkB9k995kw",
      "include_colab_link": true
    },
    "kernelspec": {
      "name": "python3",
      "display_name": "Python 3"
    }
  },
  "cells": [
    {
      "cell_type": "markdown",
      "metadata": {
        "id": "view-in-github",
        "colab_type": "text"
      },
      "source": [
        "<a href=\"https://colab.research.google.com/github/rizkiprof/Learn-Machine-Learning/blob/main/Apple_stock_market_prediction_using_LSTM.ipynb\" target=\"_parent\"><img src=\"https://colab.research.google.com/assets/colab-badge.svg\" alt=\"Open In Colab\"/></a>"
      ]
    },
    {
      "cell_type": "markdown",
      "metadata": {
        "id": "NDI39ILaoT1w"
      },
      "source": [
        "Tutorial dari sini : \r\n",
        "https://www.youtube.com/watch?v=QIUxPv5PJOY&lc=UgyYL7MUfMO_YmpOvMJ4AaABAg.9C-TDqDGHEF9C8aqfKUHYB)"
      ]
    },
    {
      "cell_type": "code",
      "metadata": {
        "id": "SWSzV8ltY7Kl"
      },
      "source": [
        "import math\r\n",
        "import pandas_datareader as web\r\n",
        "import numpy as np\r\n",
        "import pandas as pd\r\n",
        "from sklearn.preprocessing import MinMaxScaler\r\n",
        "from keras.layers import Dense, LSTM\r\n",
        "from keras.models import Sequential\r\n",
        "import matplotlib.pyplot as plt\r\n",
        "plt.style.use('fivethirtyeight')"
      ],
      "execution_count": null,
      "outputs": []
    },
    {
      "cell_type": "code",
      "metadata": {
        "colab": {
          "base_uri": "https://localhost:8080/",
          "height": 437
        },
        "id": "UIuJqxA0ZevG",
        "outputId": "46d4a198-dc97-4306-9365-9b5bcd5c9da7"
      },
      "source": [
        "df = web.DataReader('AAPL', data_source='yahoo', start='2012-01-01', end='2021-01-11')\r\n",
        "df"
      ],
      "execution_count": null,
      "outputs": [
        {
          "output_type": "execute_result",
          "data": {
            "text/html": [
              "<div>\n",
              "<style scoped>\n",
              "    .dataframe tbody tr th:only-of-type {\n",
              "        vertical-align: middle;\n",
              "    }\n",
              "\n",
              "    .dataframe tbody tr th {\n",
              "        vertical-align: top;\n",
              "    }\n",
              "\n",
              "    .dataframe thead th {\n",
              "        text-align: right;\n",
              "    }\n",
              "</style>\n",
              "<table border=\"1\" class=\"dataframe\">\n",
              "  <thead>\n",
              "    <tr style=\"text-align: right;\">\n",
              "      <th></th>\n",
              "      <th>High</th>\n",
              "      <th>Low</th>\n",
              "      <th>Open</th>\n",
              "      <th>Close</th>\n",
              "      <th>Volume</th>\n",
              "      <th>Adj Close</th>\n",
              "    </tr>\n",
              "    <tr>\n",
              "      <th>Date</th>\n",
              "      <th></th>\n",
              "      <th></th>\n",
              "      <th></th>\n",
              "      <th></th>\n",
              "      <th></th>\n",
              "      <th></th>\n",
              "    </tr>\n",
              "  </thead>\n",
              "  <tbody>\n",
              "    <tr>\n",
              "      <th>2012-01-03</th>\n",
              "      <td>14.732143</td>\n",
              "      <td>14.607143</td>\n",
              "      <td>14.621429</td>\n",
              "      <td>14.686786</td>\n",
              "      <td>302220800.0</td>\n",
              "      <td>12.669562</td>\n",
              "    </tr>\n",
              "    <tr>\n",
              "      <th>2012-01-04</th>\n",
              "      <td>14.810000</td>\n",
              "      <td>14.617143</td>\n",
              "      <td>14.642857</td>\n",
              "      <td>14.765714</td>\n",
              "      <td>260022000.0</td>\n",
              "      <td>12.737653</td>\n",
              "    </tr>\n",
              "    <tr>\n",
              "      <th>2012-01-05</th>\n",
              "      <td>14.948214</td>\n",
              "      <td>14.738214</td>\n",
              "      <td>14.819643</td>\n",
              "      <td>14.929643</td>\n",
              "      <td>271269600.0</td>\n",
              "      <td>12.879066</td>\n",
              "    </tr>\n",
              "    <tr>\n",
              "      <th>2012-01-06</th>\n",
              "      <td>15.098214</td>\n",
              "      <td>14.972143</td>\n",
              "      <td>14.991786</td>\n",
              "      <td>15.085714</td>\n",
              "      <td>318292800.0</td>\n",
              "      <td>13.013701</td>\n",
              "    </tr>\n",
              "    <tr>\n",
              "      <th>2012-01-09</th>\n",
              "      <td>15.276786</td>\n",
              "      <td>15.048214</td>\n",
              "      <td>15.196429</td>\n",
              "      <td>15.061786</td>\n",
              "      <td>394024400.0</td>\n",
              "      <td>12.993060</td>\n",
              "    </tr>\n",
              "    <tr>\n",
              "      <th>...</th>\n",
              "      <td>...</td>\n",
              "      <td>...</td>\n",
              "      <td>...</td>\n",
              "      <td>...</td>\n",
              "      <td>...</td>\n",
              "      <td>...</td>\n",
              "    </tr>\n",
              "    <tr>\n",
              "      <th>2021-01-05</th>\n",
              "      <td>131.740005</td>\n",
              "      <td>128.429993</td>\n",
              "      <td>128.889999</td>\n",
              "      <td>131.009995</td>\n",
              "      <td>97664900.0</td>\n",
              "      <td>131.009995</td>\n",
              "    </tr>\n",
              "    <tr>\n",
              "      <th>2021-01-06</th>\n",
              "      <td>131.050003</td>\n",
              "      <td>126.379997</td>\n",
              "      <td>127.720001</td>\n",
              "      <td>126.599998</td>\n",
              "      <td>155088000.0</td>\n",
              "      <td>126.599998</td>\n",
              "    </tr>\n",
              "    <tr>\n",
              "      <th>2021-01-07</th>\n",
              "      <td>131.630005</td>\n",
              "      <td>127.860001</td>\n",
              "      <td>128.360001</td>\n",
              "      <td>130.919998</td>\n",
              "      <td>109578200.0</td>\n",
              "      <td>130.919998</td>\n",
              "    </tr>\n",
              "    <tr>\n",
              "      <th>2021-01-08</th>\n",
              "      <td>132.630005</td>\n",
              "      <td>130.229996</td>\n",
              "      <td>132.429993</td>\n",
              "      <td>132.050003</td>\n",
              "      <td>104965400.0</td>\n",
              "      <td>132.050003</td>\n",
              "    </tr>\n",
              "    <tr>\n",
              "      <th>2021-01-11</th>\n",
              "      <td>130.169998</td>\n",
              "      <td>128.500000</td>\n",
              "      <td>129.190002</td>\n",
              "      <td>128.979996</td>\n",
              "      <td>100620900.0</td>\n",
              "      <td>128.979996</td>\n",
              "    </tr>\n",
              "  </tbody>\n",
              "</table>\n",
              "<p>2271 rows × 6 columns</p>\n",
              "</div>"
            ],
            "text/plain": [
              "                  High         Low  ...       Volume   Adj Close\n",
              "Date                                ...                         \n",
              "2012-01-03   14.732143   14.607143  ...  302220800.0   12.669562\n",
              "2012-01-04   14.810000   14.617143  ...  260022000.0   12.737653\n",
              "2012-01-05   14.948214   14.738214  ...  271269600.0   12.879066\n",
              "2012-01-06   15.098214   14.972143  ...  318292800.0   13.013701\n",
              "2012-01-09   15.276786   15.048214  ...  394024400.0   12.993060\n",
              "...                ...         ...  ...          ...         ...\n",
              "2021-01-05  131.740005  128.429993  ...   97664900.0  131.009995\n",
              "2021-01-06  131.050003  126.379997  ...  155088000.0  126.599998\n",
              "2021-01-07  131.630005  127.860001  ...  109578200.0  130.919998\n",
              "2021-01-08  132.630005  130.229996  ...  104965400.0  132.050003\n",
              "2021-01-11  130.169998  128.500000  ...  100620900.0  128.979996\n",
              "\n",
              "[2271 rows x 6 columns]"
            ]
          },
          "metadata": {
            "tags": []
          },
          "execution_count": 70
        }
      ]
    },
    {
      "cell_type": "code",
      "metadata": {
        "colab": {
          "base_uri": "https://localhost:8080/",
          "height": 518
        },
        "id": "bjUWD5adZxuf",
        "outputId": "b68a9aa2-55f9-4320-fa1e-596b6e9a0ba6"
      },
      "source": [
        "plt.figure(figsize=(16,8))\r\n",
        "plt.title ('Close Price History')\r\n",
        "plt.plot(df['Close'])\r\n",
        "plt.xlabel('Date', fontsize=18)\r\n",
        "plt.ylabel('Close Price USD ($)', fontsize=18)\r\n",
        "plt.show()"
      ],
      "execution_count": null,
      "outputs": [
        {
          "output_type": "display_data",
          "data": {
            "image/png": "[encoded data removed]",
            "text/plain": [
              "<Figure size 1152x576 with 1 Axes>"
            ]
          },
          "metadata": {
            "tags": [],
            "needs_background": "light"
          }
        }
      ]
    },
    {
      "cell_type": "code",
      "metadata": {
        "colab": {
          "base_uri": "https://localhost:8080/"
        },
        "id": "97wCi6LFaHBG",
        "outputId": "3b189c3b-296a-4927-a8b4-92db38037cda"
      },
      "source": [
        "data = df.filter(['Close'])\r\n",
        "dataset = data.values\r\n",
        "training_data_len = math.ceil(len(dataset) * 0.8)\r\n",
        "\r\n",
        "training_data_len"
      ],
      "execution_count": null,
      "outputs": [
        {
          "output_type": "execute_result",
          "data": {
            "text/plain": [
              "1817"
            ]
          },
          "metadata": {
            "tags": []
          },
          "execution_count": 72
        }
      ]
    },
    {
      "cell_type": "code",
      "metadata": {
        "colab": {
          "base_uri": "https://localhost:8080/"
        },
        "id": "YPFWO7bua2lx",
        "outputId": "a77224a3-59fd-4074-d499-e59db8499b53"
      },
      "source": [
        "scaler = MinMaxScaler(feature_range=(0,1))\r\n",
        "scaled_data = scaler.fit_transform(dataset)\r\n",
        "\r\n",
        "scaled_data"
      ],
      "execution_count": null,
      "outputs": [
        {
          "output_type": "execute_result",
          "data": {
            "text/plain": [
              "array([[0.00602306],\n",
              "       [0.0066661 ],\n",
              "       [0.00800165],\n",
              "       ...,\n",
              "       [0.95299098],\n",
              "       [0.96219729],\n",
              "       [0.93718552]])"
            ]
          },
          "metadata": {
            "tags": []
          },
          "execution_count": 73
        }
      ]
    },
    {
      "cell_type": "code",
      "metadata": {
        "colab": {
          "base_uri": "https://localhost:8080/"
        },
        "id": "K75WyNecbwIM",
        "outputId": "b4f7cc60-25d8-4f9b-a3bd-3c68142e6dcb"
      },
      "source": [
        "train_data = scaled_data[0:training_data_len, :]\r\n",
        "x_train = []\r\n",
        "y_train = []\r\n",
        "\r\n",
        "for i in range (60, len(train_data)):\r\n",
        "  x_train.append(train_data[i-60:i, 0])\r\n",
        "  y_train.append(train_data[i, 0])\r\n",
        "  if i <= 61:\r\n",
        "    print(x_train)\r\n",
        "    print(y_train)\r\n",
        "    print()"
      ],
      "execution_count": null,
      "outputs": [
        {
          "output_type": "stream",
          "text": [
            "[array([0.00602306, 0.0066661 , 0.00800165, 0.00927319, 0.00907824,\n",
            "       0.0095176 , 0.00931683, 0.0089793 , 0.00851957, 0.00994242,\n",
            "       0.01122559, 0.01082987, 0.00866214, 0.01073094, 0.00869416,\n",
            "       0.0163321 , 0.01574144, 0.0165125 , 0.01817975, 0.01918941,\n",
            "       0.01910503, 0.0187937 , 0.02012052, 0.02136877, 0.02278289,\n",
            "       0.025067  , 0.02986508, 0.02993782, 0.03260892, 0.03460496,\n",
            "       0.03117444, 0.03249544, 0.03246925, 0.03617329, 0.03564663,\n",
            "       0.03662137, 0.03837301, 0.03934777, 0.04215562, 0.04420112,\n",
            "       0.04479179, 0.04499838, 0.04150094, 0.04065712, 0.04078224,\n",
            "       0.0440702 , 0.04499548, 0.0469828 , 0.0516674 , 0.05791742,\n",
            "       0.05674772, 0.05675062, 0.06126938, 0.0626835 , 0.06167673,\n",
            "       0.06075728, 0.05979999, 0.06298027, 0.06516255, 0.06607619])]\n",
            "[0.06381826722571945]\n",
            "\n",
            "[array([0.00602306, 0.0066661 , 0.00800165, 0.00927319, 0.00907824,\n",
            "       0.0095176 , 0.00931683, 0.0089793 , 0.00851957, 0.00994242,\n",
            "       0.01122559, 0.01082987, 0.00866214, 0.01073094, 0.00869416,\n",
            "       0.0163321 , 0.01574144, 0.0165125 , 0.01817975, 0.01918941,\n",
            "       0.01910503, 0.0187937 , 0.02012052, 0.02136877, 0.02278289,\n",
            "       0.025067  , 0.02986508, 0.02993782, 0.03260892, 0.03460496,\n",
            "       0.03117444, 0.03249544, 0.03246925, 0.03617329, 0.03564663,\n",
            "       0.03662137, 0.03837301, 0.03934777, 0.04215562, 0.04420112,\n",
            "       0.04479179, 0.04499838, 0.04150094, 0.04065712, 0.04078224,\n",
            "       0.0440702 , 0.04499548, 0.0469828 , 0.0516674 , 0.05791742,\n",
            "       0.05674772, 0.05675062, 0.06126938, 0.0626835 , 0.06167673,\n",
            "       0.06075728, 0.05979999, 0.06298027, 0.06516255, 0.06607619]), array([0.0066661 , 0.00800165, 0.00927319, 0.00907824, 0.0095176 ,\n",
            "       0.00931683, 0.0089793 , 0.00851957, 0.00994242, 0.01122559,\n",
            "       0.01082987, 0.00866214, 0.01073094, 0.00869416, 0.0163321 ,\n",
            "       0.01574144, 0.0165125 , 0.01817975, 0.01918941, 0.01910503,\n",
            "       0.0187937 , 0.02012052, 0.02136877, 0.02278289, 0.025067  ,\n",
            "       0.02986508, 0.02993782, 0.03260892, 0.03460496, 0.03117444,\n",
            "       0.03249544, 0.03246925, 0.03617329, 0.03564663, 0.03662137,\n",
            "       0.03837301, 0.03934777, 0.04215562, 0.04420112, 0.04479179,\n",
            "       0.04499838, 0.04150094, 0.04065712, 0.04078224, 0.0440702 ,\n",
            "       0.04499548, 0.0469828 , 0.0516674 , 0.05791742, 0.05674772,\n",
            "       0.05675062, 0.06126938, 0.0626835 , 0.06167673, 0.06075728,\n",
            "       0.05979999, 0.06298027, 0.06516255, 0.06607619, 0.06381827])]\n",
            "[0.06381826722571945, 0.060818380088606155]\n",
            "\n"
          ],
          "name": "stdout"
        }
      ]
    },
    {
      "cell_type": "code",
      "metadata": {
        "id": "SDCT9Kadcmmi"
      },
      "source": [
        "#convert x_train and y_train to numpy arrays\r\n",
        "x_train, y_train = np.array(x_train), np.array(y_train)"
      ],
      "execution_count": null,
      "outputs": []
    },
    {
      "cell_type": "code",
      "metadata": {
        "colab": {
          "base_uri": "https://localhost:8080/"
        },
        "id": "gVQ7UurldeL6",
        "outputId": "e1d6f427-8eed-44ee-ef6f-50bfed92dff7"
      },
      "source": [
        "#reshape data (LSTM needs to be 3Dimensional data)\r\n",
        "x_train = np.reshape(x_train, (x_train.shape[0], 60, 1))\r\n",
        "x_train.shape"
      ],
      "execution_count": null,
      "outputs": [
        {
          "output_type": "execute_result",
          "data": {
            "text/plain": [
              "(1757, 60, 1)"
            ]
          },
          "metadata": {
            "tags": []
          },
          "execution_count": 76
        }
      ]
    },
    {
      "cell_type": "code",
      "metadata": {
        "id": "_Az7vpWzdh1y"
      },
      "source": [
        "#build lstm model\r\n",
        "model = Sequential()\r\n",
        "model.add(LSTM(50, return_sequences = True, input_shape=(x_train.shape[1],1)))\r\n",
        "model.add(LSTM(50, return_sequences = False))\r\n",
        "model.add(Dense(25))\r\n",
        "model.add(Dense(1))"
      ],
      "execution_count": null,
      "outputs": []
    },
    {
      "cell_type": "code",
      "metadata": {
        "id": "jOI6vutmd43A"
      },
      "source": [
        "model.compile(optimizer='adam', loss='mean_squared_error')"
      ],
      "execution_count": null,
      "outputs": []
    },
    {
      "cell_type": "code",
      "metadata": {
        "colab": {
          "base_uri": "https://localhost:8080/"
        },
        "id": "Ca_dYRP5elEx",
        "outputId": "635e289d-6dd2-4cf1-8456-fc9b76edd665"
      },
      "source": [
        "#train\r\n",
        "model.fit(x_train, y_train, batch_size=1, epochs=1)"
      ],
      "execution_count": null,
      "outputs": [
        {
          "output_type": "stream",
          "text": [
            "1757/1757 [==============================] - 42s 22ms/step - loss: 4.9551e-04\n"
          ],
          "name": "stdout"
        },
        {
          "output_type": "execute_result",
          "data": {
            "text/plain": [
              "<tensorflow.python.keras.callbacks.History at 0x7f70680634e0>"
            ]
          },
          "metadata": {
            "tags": []
          },
          "execution_count": 79
        }
      ]
    },
    {
      "cell_type": "code",
      "metadata": {
        "id": "ahg3Cn2oe7b-"
      },
      "source": [
        "#Create testing dataset\r\n",
        "#Create a new array containing data from index 1543 to 2003\r\n",
        "test_data = scaled_data[training_data_len - 60:, :]\r\n",
        "#Create the data sets x_test and y_test\r\n",
        "x_test = []\r\n",
        "y_test = dataset[training_data_len:, :]\r\n",
        "for i in range(60, len(test_data)):\r\n",
        "  x_test.append(test_data[i-60:i,0])\r\n",
        "  "
      ],
      "execution_count": null,
      "outputs": []
    },
    {
      "cell_type": "code",
      "metadata": {
        "id": "DOOAJd5Dfj_q"
      },
      "source": [
        "x_test = np.array(x_test)"
      ],
      "execution_count": null,
      "outputs": []
    },
    {
      "cell_type": "code",
      "metadata": {
        "id": "rKRfHMKNf9xF"
      },
      "source": [
        "x_test = np.reshape(x_test, (x_test.shape[0], x_test.shape[1] ,1 ))"
      ],
      "execution_count": null,
      "outputs": []
    },
    {
      "cell_type": "code",
      "metadata": {
        "id": "b3_y_3oxgept"
      },
      "source": [
        "predictions = model.predict(x_test)\r\n",
        "predictions = scaler.inverse_transform(predictions)"
      ],
      "execution_count": null,
      "outputs": []
    },
    {
      "cell_type": "code",
      "metadata": {
        "colab": {
          "base_uri": "https://localhost:8080/"
        },
        "id": "g0ib43QQgiQO",
        "outputId": "a9431871-45ad-4d46-9d1c-9f43da4ede14"
      },
      "source": [
        "#Get RMSE\r\n",
        "rmse = np.sqrt(((predictions - y_test) ** 2).mean())\r\n",
        "rmse"
      ],
      "execution_count": null,
      "outputs": [
        {
          "output_type": "execute_result",
          "data": {
            "text/plain": [
              "3.5180044351254476"
            ]
          },
          "metadata": {
            "tags": []
          },
          "execution_count": 93
        }
      ]
    },
    {
      "cell_type": "code",
      "metadata": {
        "colab": {
          "base_uri": "https://localhost:8080/",
          "height": 667
        },
        "id": "5qmbFJOKh3OE",
        "outputId": "2a33369f-dd15-418b-afc8-994d94f012e6"
      },
      "source": [
        "train = data[:training_data_len]\r\n",
        "valid = data[training_data_len:]\r\n",
        "valid['Predictions'] = predictions\r\n",
        "\r\n",
        "plt.figure(figsize=(16,8))\r\n",
        "plt.title('Model')\r\n",
        "plt.xlabel('Date')\r\n",
        "plt.ylabel('Close price USD :')\r\n",
        "plt.plot(train['Close'])\r\n",
        "plt.plot(valid[['Close', 'Predictions']])\r\n",
        "plt.legend(['Train', 'Val', 'Predictions'], loc = 'lower right')\r\n",
        "plt.show()\r\n"
      ],
      "execution_count": null,
      "outputs": [
        {
          "output_type": "stream",
          "text": [
            "/usr/local/lib/python3.6/dist-packages/ipykernel_launcher.py:3: SettingWithCopyWarning: \n",
            "A value is trying to be set on a copy of a slice from a DataFrame.\n",
            "Try using .loc[row_indexer,col_indexer] = value instead\n",
            "\n",
            "See the caveats in the documentation: https://pandas.pydata.org/pandas-docs/stable/user_guide/indexing.html#returning-a-view-versus-a-copy\n",
            "  This is separate from the ipykernel package so we can avoid doing imports until\n"
          ],
          "name": "stderr"
        },
        {
          "output_type": "display_data",
          "data": {
            "image/png": "[encoded data removed]",
            "text/plain": [
              "<Figure size 1152x576 with 1 Axes>"
            ]
          },
          "metadata": {
            "tags": []
          }
        }
      ]
    },
    {
      "cell_type": "code",
      "metadata": {
        "colab": {
          "base_uri": "https://localhost:8080/",
          "height": 437
        },
        "id": "YKuVE1Hsifjf",
        "outputId": "15e7761f-9016-458b-8f9a-1c4406a8a8a0"
      },
      "source": [
        "valid"
      ],
      "execution_count": null,
      "outputs": [
        {
          "output_type": "execute_result",
          "data": {
            "text/html": [
              "<div>\n",
              "<style scoped>\n",
              "    .dataframe tbody tr th:only-of-type {\n",
              "        vertical-align: middle;\n",
              "    }\n",
              "\n",
              "    .dataframe tbody tr th {\n",
              "        vertical-align: top;\n",
              "    }\n",
              "\n",
              "    .dataframe thead th {\n",
              "        text-align: right;\n",
              "    }\n",
              "</style>\n",
              "<table border=\"1\" class=\"dataframe\">\n",
              "  <thead>\n",
              "    <tr style=\"text-align: right;\">\n",
              "      <th></th>\n",
              "      <th>Close</th>\n",
              "      <th>Predictions</th>\n",
              "    </tr>\n",
              "    <tr>\n",
              "      <th>Date</th>\n",
              "      <th></th>\n",
              "      <th></th>\n",
              "    </tr>\n",
              "  </thead>\n",
              "  <tbody>\n",
              "    <tr>\n",
              "      <th>2019-03-26</th>\n",
              "      <td>46.697498</td>\n",
              "      <td>47.706345</td>\n",
              "    </tr>\n",
              "    <tr>\n",
              "      <th>2019-03-27</th>\n",
              "      <td>47.117500</td>\n",
              "      <td>47.714161</td>\n",
              "    </tr>\n",
              "    <tr>\n",
              "      <th>2019-03-28</th>\n",
              "      <td>47.180000</td>\n",
              "      <td>47.674992</td>\n",
              "    </tr>\n",
              "    <tr>\n",
              "      <th>2019-03-29</th>\n",
              "      <td>47.487499</td>\n",
              "      <td>47.622040</td>\n",
              "    </tr>\n",
              "    <tr>\n",
              "      <th>2019-04-01</th>\n",
              "      <td>47.810001</td>\n",
              "      <td>47.608635</td>\n",
              "    </tr>\n",
              "    <tr>\n",
              "      <th>...</th>\n",
              "      <td>...</td>\n",
              "      <td>...</td>\n",
              "    </tr>\n",
              "    <tr>\n",
              "      <th>2021-01-05</th>\n",
              "      <td>131.009995</td>\n",
              "      <td>128.260544</td>\n",
              "    </tr>\n",
              "    <tr>\n",
              "      <th>2021-01-06</th>\n",
              "      <td>126.599998</td>\n",
              "      <td>127.754478</td>\n",
              "    </tr>\n",
              "    <tr>\n",
              "      <th>2021-01-07</th>\n",
              "      <td>130.919998</td>\n",
              "      <td>126.674103</td>\n",
              "    </tr>\n",
              "    <tr>\n",
              "      <th>2021-01-08</th>\n",
              "      <td>132.050003</td>\n",
              "      <td>126.075905</td>\n",
              "    </tr>\n",
              "    <tr>\n",
              "      <th>2021-01-11</th>\n",
              "      <td>128.979996</td>\n",
              "      <td>125.917038</td>\n",
              "    </tr>\n",
              "  </tbody>\n",
              "</table>\n",
              "<p>454 rows × 2 columns</p>\n",
              "</div>"
            ],
            "text/plain": [
              "                 Close  Predictions\n",
              "Date                               \n",
              "2019-03-26   46.697498    47.706345\n",
              "2019-03-27   47.117500    47.714161\n",
              "2019-03-28   47.180000    47.674992\n",
              "2019-03-29   47.487499    47.622040\n",
              "2019-04-01   47.810001    47.608635\n",
              "...                ...          ...\n",
              "2021-01-05  131.009995   128.260544\n",
              "2021-01-06  126.599998   127.754478\n",
              "2021-01-07  130.919998   126.674103\n",
              "2021-01-08  132.050003   126.075905\n",
              "2021-01-11  128.979996   125.917038\n",
              "\n",
              "[454 rows x 2 columns]"
            ]
          },
          "metadata": {
            "tags": []
          },
          "execution_count": 86
        }
      ]
    },
    {
      "cell_type": "code",
      "metadata": {
        "colab": {
          "base_uri": "https://localhost:8080/"
        },
        "id": "_0rwv7k6jZOb",
        "outputId": "16ca2f8c-aa19-44ba-fed9-ad6f467fcb98"
      },
      "source": [
        "apple_quote = web.DataReader('AAPL', data_source='yahoo', start='2012-01-01', end='2021-01-14')\r\n",
        "\r\n",
        "new_df = apple_quote.filter(['Close'])\r\n",
        "last_60_days = new_df[-60:].values\r\n",
        "last_60_days_scaled = scaler.transform(last_60_days)\r\n",
        "X_test = []\r\n",
        "X_test.append(last_60_days_scaled)\r\n",
        "X_test = np.array(X_test)\r\n",
        "#reshape\r\n",
        "X_test = np.reshape(X_test, (X_test.shape[0], X_test.shape[1], 1))\r\n",
        "pred_price = model.predict(X_test)\r\n",
        "pred_price = scaler.inverse_transform(pred_price)\r\n",
        "print(pred_price)"
      ],
      "execution_count": null,
      "outputs": [
        {
          "output_type": "stream",
          "text": [
            "[[124.9636]]\n"
          ],
          "name": "stdout"
        }
      ]
    },
    {
      "cell_type": "code",
      "metadata": {
        "colab": {
          "base_uri": "https://localhost:8080/"
        },
        "id": "VXGEfK4ukeYG",
        "outputId": "a944baef-d199-44c2-836e-bf0987473728"
      },
      "source": [
        "apple_quote2 = web.DataReader('AAPL', data_source='yahoo', start='2021-01-15', end='2021-01-15')\r\n",
        "print(apple_quote2['Close'])"
      ],
      "execution_count": null,
      "outputs": [
        {
          "output_type": "stream",
          "text": [
            "Date\n",
            "2021-01-15    127.139999\n",
            "2021-01-15    127.139999\n",
            "Name: Close, dtype: float64\n"
          ],
          "name": "stdout"
        }
      ]
    },
    {
      "cell_type": "markdown",
      "metadata": {
        "id": "7ULyDo76oQ0C"
      },
      "source": [
        ""
      ]
    }
  ]
}